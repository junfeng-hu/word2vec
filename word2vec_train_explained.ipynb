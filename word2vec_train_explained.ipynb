{
 "cells": [
  {
   "cell_type": "markdown",
   "metadata": {},
   "source": [
    "### Introduction"
   ]
  },
  {
   "cell_type": "markdown",
   "metadata": {},
   "source": [
    "This article gives a detailed explanation of the weight vector updates in word2vec C implementation."
   ]
  },
  {
   "cell_type": "markdown",
   "metadata": {},
   "source": [
    "### some properties of sigmoid function"
   ]
  },
  {
   "cell_type": "markdown",
   "metadata": {},
   "source": [
    "(0)\n",
    "\n",
    "$$\n",
    "\\sigma' (y) = \\sigma (y) \\cdot [ 1 - \\sigma (y) ] \\cdot y'\n",
    "$$"
   ]
  },
  {
   "cell_type": "markdown",
   "metadata": {},
   "source": [
    "#### visualize a property of sigmoid function"
   ]
  },
  {
   "cell_type": "markdown",
   "metadata": {},
   "source": [
    "$$\n",
    "\\frac {1} {N} \\sum_{i=1}^{N} \\sigma(x_i) \\approx\n",
    "\\sigma( \\frac {1} {N} \\sum_{i=1}^{N} x_i )\n",
    "$$"
   ]
  },
  {
   "cell_type": "markdown",
   "metadata": {},
   "source": [
    "I can't prove it, my major is not math"
   ]
  },
  {
   "cell_type": "code",
   "execution_count": 70,
   "metadata": {
    "collapsed": false
   },
   "outputs": [
    {
     "name": "stdout",
     "output_type": "stream",
     "text": [
      "Populating the interactive namespace from numpy and matplotlib\n"
     ]
    },
    {
     "data": {
      "image/png": "[encoded data removed]",
      "text/plain": [
       "<matplotlib.figure.Figure at 0x7fa8db84d940>"
      ]
     },
     "metadata": {},
     "output_type": "display_data"
    },
    {
     "data": {
      "image/png": "[encoded data removed]",
      "text/plain": [
       "<matplotlib.figure.Figure at 0x7fa8d90f6e10>"
      ]
     },
     "metadata": {},
     "output_type": "display_data"
    }
   ],
   "source": [
    "%pylab inline --no-import-all\n",
    "\n",
    "import numpy as np\n",
    "\n",
    "x = np.random.randn(1000, 100)\n",
    "\n",
    "m = np.mean(x, axis=1)\n",
    "\n",
    "def sigmoid(a):\n",
    "    return 1.0 / (1 + np.exp(-a))\n",
    "\n",
    "m_s = sigmoid(m)\n",
    "\n",
    "m_x_s = np.mean(sigmoid(x), axis=1)\n",
    "\n",
    "plt.scatter(m_x_s, m_s)\n",
    "plt.show()\n",
    "plt.plot(m_x_s, m_s)\n",
    "plt.show()"
   ]
  },
  {
   "cell_type": "markdown",
   "metadata": {},
   "source": [
    "### hierarchical softmax"
   ]
  },
  {
   "cell_type": "markdown",
   "metadata": {},
   "source": [
    "(1)\n",
    "$$ p(w | w_I) = \\prod_{j=1}^{L(w)-1} \\sigma \\left( [\\![ n(w, j+1) = ch(n(w, j)) ]\\!] \\cdot {v'_{n(w, j)}}^T v_{w_I} \n",
    "\\right) $$"
   ]
  },
  {
   "cell_type": "markdown",
   "metadata": {},
   "source": [
    "#### the hierarchical softmax gradient"
   ]
  },
  {
   "cell_type": "markdown",
   "metadata": {},
   "source": [
    "First let\n",
    "\n",
    "$$\n",
    "hs_j = [\\![ n(w, j+1) = ch(n(w, j)) ]\\!] \\cdot {v'_{n(w, j)}}^T v_{w_I}\n",
    "$$"
   ]
  },
  {
   "cell_type": "markdown",
   "metadata": {},
   "source": [
    "And\n",
    "\n",
    "$$\n",
    "\\frac {d hs_j} {v'_{n(w, j)}} = [\\![ n(w, j+1) = ch(n(w, j)) ]\\!] \\cdot v_{w_I}\n",
    "$$\n",
    "\n",
    "$$\n",
    "\\frac {d hs_j} {v_{w_I}} = [\\![ n(w, j+1) = ch(n(w, j)) ]\\!] \\cdot v'_{n(w, j)}\n",
    "$$"
   ]
  },
  {
   "cell_type": "markdown",
   "metadata": {},
   "source": [
    "Then\n",
    "$$\n",
    "\\nabla \\log p(w | w_I) = \\sum_{j=1}^{L(w)-1} \\frac{1} {\\sigma (hs_j)} \\cdot \\sigma' (hs_j) \\cdot hs'_j\n",
    "$$\n",
    "\n",
    "According to equation (0)\n",
    "$$\n",
    "\\nabla \\log p(w | w_I) = \\sum_{j=1}^{L(w)-1}\n",
    "\\frac{1} {\\sigma (hs_j)}\n",
    "\\cdot\n",
    "\\sigma (hs_j) \\cdot [ 1 - \\sigma (hs_j) ]\n",
    "\\cdot\n",
    "hs'_j\n",
    "$$\n",
    "\n",
    "simplify\n",
    "$$\n",
    "\\nabla \\log p(w | w_I) = \\sum_{j=1}^{L(w)-1}\n",
    "[ 1 - \\sigma (hs_j) ] \\cdot hs'_j\n",
    "$$"
   ]
  },
  {
   "cell_type": "markdown",
   "metadata": {},
   "source": [
    "When update $ v_{w_I} $, we got gradient is:\n",
    "\n",
    "$$\n",
    "\\nabla \\log p(w | w_I) = \\sum_{j=1}^{L(w)-1}\n",
    "[ 1 - \\sigma (hs_j) ] \\cdot\n",
    "[\\![ n(w, j+1) = ch(n(w, j)) ]\\!]\n",
    "\\cdot v'_{n(w, j)}\n",
    "$$"
   ]
  },
  {
   "cell_type": "markdown",
   "metadata": {},
   "source": [
    "When update $ v'_{n(w, j)}$ for each $j \\in [1, L(w)-1]$, we got gradient is:\n",
    "\n",
    "$$\n",
    "\\nabla \\log p(w | w_I) = [ 1 - \\sigma (hs_j) ]\n",
    "\\cdot\n",
    "[\\![ n(w, j+1) = ch(n(w, j)) ]\\!]\n",
    "\\cdot\n",
    "v_{w_I}\n",
    "$$"
   ]
  },
  {
   "cell_type": "markdown",
   "metadata": {},
   "source": [
    "### negative sampling"
   ]
  },
  {
   "cell_type": "markdown",
   "metadata": {},
   "source": [
    "(2)\n",
    "$$\n",
    "\\log p(w_O | w_I) = \\log \\sigma( {v'_{w_O}}^T v_{w_I} ) + \n",
    "\\sum_{i}^{k} E_{w_i \\sim P_n(w)}\n",
    "\\left[\n",
    "\\log \\sigma( {-v'_{w_i}}^T v_{w_I} )\n",
    "\\right]\n",
    "$$"
   ]
  },
  {
   "cell_type": "markdown",
   "metadata": {},
   "source": [
    "#### the negative sampling gradient"
   ]
  },
  {
   "cell_type": "markdown",
   "metadata": {},
   "source": [
    "First let\n",
    "\n",
    "$$\n",
    "ns_{xI} = {v'_{w_x}}^T \\cdot v_{w_I}\n",
    "$$\n",
    "\n",
    "$w_x \\in \\{ w_O, w_i \\sim P_n(w) \\}$"
   ]
  },
  {
   "cell_type": "markdown",
   "metadata": {},
   "source": [
    "And\n",
    "\n",
    "the gradients $ns_{xI}$ according to ${v'_{w_x}}$ and $v_{w_I}$ are:\n",
    "\n",
    "$$\n",
    "\\frac {d ns_{xI}} {v'_{w_x}} = v_{w_I}\n",
    "$$\n",
    "\n",
    "$$\n",
    "\\frac {d ns_{xI}} {v_{w_I}} = v'_{w_x}\n",
    "$$"
   ]
  },
  {
   "cell_type": "markdown",
   "metadata": {},
   "source": [
    "Then\n",
    "\n",
    "$$\n",
    "\\nabla \\log p(w_O | w_I) = \\frac {1} { \\sigma(ns_{OI}) }\n",
    "\\cdot\n",
    "\\sigma'(ns_{OI})\n",
    "\\cdot\n",
    "ns'_{OI}\n",
    "+\n",
    "\\sum_{i}^{k} E_{w_i \\sim P_n(w)}\n",
    "\\left[\n",
    "\\frac {1} { \\sigma(-ns_{iI}) } \\cdot\n",
    "\\sigma'( -ns_{iI} ) \\cdot\n",
    "-ns'_{iI}\n",
    "\\right]\n",
    "$$"
   ]
  },
  {
   "cell_type": "markdown",
   "metadata": {},
   "source": [
    "According to equation (0)\n",
    "\n",
    "$$\n",
    "\\nabla \\log p(w_O | w_I) = \\frac {1} { \\sigma(ns_{OI}) }\n",
    "\\cdot\n",
    "\\sigma(ns_{OI}) \\cdot [ 1 - \\sigma(ns_{OI}) ]\n",
    "\\cdot\n",
    "ns'_{OI}\n",
    "+\n",
    "\\sum_{i}^{k} E_{w_i \\sim P_n(w)}\n",
    "\\left[\n",
    "\\frac {1} { \\sigma(-ns_{iI}) } \\cdot\n",
    "\\sigma ( -ns_{iI} ) \\cdot\n",
    "[ 1 - \\sigma(-ns_{iI}) ] \\cdot\n",
    "-ns'_{iI}\n",
    "\\right]\n",
    "$$"
   ]
  },
  {
   "cell_type": "markdown",
   "metadata": {},
   "source": [
    "simplify\n",
    "\n",
    "$$\n",
    "\\nabla \\log p(w_O | w_I) = [ 1 - \\sigma(ns_{OI}) ] \\cdot ns'_{OI}\n",
    "+\n",
    "\\sum_{i}^{k} E_{w_i \\sim P_n(w)}\n",
    "\\left[\n",
    "[ 1 - \\sigma(-ns_{iI}) ] \\cdot\n",
    "-ns'_{iI}\n",
    "\\right]\n",
    "$$"
   ]
  },
  {
   "cell_type": "markdown",
   "metadata": {},
   "source": [
    "When update $ v'_{w_O} $, we got gradient is:\n",
    "\n",
    "$$\n",
    "\\nabla \\log p(w_O | w_I) = [ 1 - \\sigma(ns_{OI}) ] \\cdot v_{w_I}\n",
    "$$\n",
    "\n",
    "When update $ v_{w_I} $, we got gradient is:\n",
    "\n",
    "$$\n",
    "\\nabla \\log p(w_O | w_I) = [ 1 - \\sigma(ns_{OI}) ] \\cdot v'_{w_O}\n",
    "+\n",
    "\\sum_{i}^{k} E_{w_i \\sim P_n(w)}\n",
    "\\left[\n",
    "[ 1 - \\sigma(-ns_{iI}) ] \\cdot\n",
    "-v'_{w_i}\n",
    "\\right]\n",
    "$$\n",
    "\n",
    "When update $ v'_{w_i}, w_i \\sim P_n{w} $, we got gradient is:\n",
    "\n",
    "$$\n",
    "\\nabla \\log p(w_O | w_I) = [ 1 - \\sigma(-ns_{iI}) ] \\cdot -v_{w_I}\n",
    "$$"
   ]
  },
  {
   "cell_type": "markdown",
   "metadata": {},
   "source": [
    "### continuous bag of words"
   ]
  },
  {
   "cell_type": "markdown",
   "metadata": {},
   "source": [
    "#### maximize the following average log probability:"
   ]
  },
  {
   "cell_type": "markdown",
   "metadata": {},
   "source": [
    "(3)\n",
    "$$ \\frac{1}{T} \\sum_{t=1}^{T} \\sum_{-c \\leq{j} \\leq{c},j\\neq{0}} \\log{p(w_t | w_{t+j})} $$"
   ]
  },
  {
   "cell_type": "markdown",
   "metadata": {},
   "source": [
    "I change the index $j$ to index $q$ due to conflict with index $j$ in hierarchical softmax.\n",
    "\n",
    "(3)\n",
    "$$ \\frac{1}{T} \\sum_{t=1}^{T} \\sum_{-c \\leq{q} \\leq{c},q\\neq{0}} \\log{p(w_t | w_{t+q})} $$"
   ]
  },
  {
   "cell_type": "markdown",
   "metadata": {},
   "source": [
    "And\n",
    "\n",
    "$$\n",
    "\\nabla \\sum_{-c \\leq{q} \\leq{c},q\\neq{0}} \\log{p(w_t | w_{t+q})} = \\sum_{-c \\leq{q} \\leq{c},q\\neq{0}}\n",
    "\\nabla \\log{p(w_t | w_{t+q})}\n",
    "$$"
   ]
  },
  {
   "cell_type": "markdown",
   "metadata": {},
   "source": [
    "#### First compute the mean of window wods vector"
   ]
  },
  {
   "cell_type": "markdown",
   "metadata": {},
   "source": [
    "Let \n",
    "$$\n",
    "v_{mcw} = \\frac{1}  {cw}\n",
    "\\sum_{-c \\leq{q} \\leq{c},q\\neq{0}}\n",
    "v_{w_{t+q}}\n",
    "$$"
   ]
  },
  {
   "cell_type": "markdown",
   "metadata": {},
   "source": [
    "```c\n",
    "      // window word count\n",
    "      cw = 0;\n",
    "      for (a = b; a < window * 2 + 1 - b; a++) if (a != window) {\n",
    "        // sentence_position is sp\n",
    "        // c in [sp - (window - b), sp + (window - b)]\n",
    "        c = sentence_position - window + a;\n",
    "        if (c < 0) continue;\n",
    "        // may be is break?\n",
    "        // because c is increase\n",
    "        if (c >= sentence_length) continue;\n",
    "        last_word = sen[c];\n",
    "        if (last_word == -1) continue;\n",
    "        // sum window words' vectors\n",
    "        for (c = 0; c < layer1_size; c++) neu1[c] += syn0[c + last_word * layer1_size];\n",
    "        cw++;\n",
    "      }\n",
    "      \n",
    "      if (cw) {\n",
    "        for (c = 0; c < layer1_size; c++) neu1[c] /= cw;\n",
    "        // ...\n",
    "```\n",
    "\n",
    "*`\"neu1\"` is $v_{mcw}$*"
   ]
  },
  {
   "cell_type": "markdown",
   "metadata": {},
   "source": [
    "#### when using hierarchical softmax"
   ]
  },
  {
   "cell_type": "markdown",
   "metadata": {},
   "source": [
    "$w_t$ is $w$, $w_{t+q}$ is $w_I$ in equation(1)"
   ]
  },
  {
   "cell_type": "markdown",
   "metadata": {},
   "source": [
    "And\n",
    "\n",
    "$$\n",
    "hs_j = [\\![ n(w_t, j+1) = ch(n(w_t, j)) ]\\!] \\cdot {v'_{n(w_t, j)}}^T v_{w_{t+q}}\n",
    "$$\n",
    "\n",
    "$q \\in [-c, c], q\\neq{0}$"
   ]
  },
  {
   "cell_type": "markdown",
   "metadata": {},
   "source": [
    "Then\n",
    "\n",
    "When update $ v_{w_{t+q}} $ for each $q \\in [-c, c], q\\neq{0}$, we got gradient is:\n",
    "\n",
    "$$\n",
    "\\nabla \\log p(w_t | w_{t+q}) = \\sum_{j=1}^{L(w_t)-1}\n",
    "[ 1 - \\sigma (hs_j) ] \\cdot\n",
    "[\\![ n(w_t, j+1) = ch(n(w_t, j)) ]\\!]\n",
    "\\cdot v'_{n(w_t, j)}\n",
    "$$\n",
    "\n",
    "$$\n",
    "\\nabla \\sum_{-c \\leq{q} \\leq{c},q\\neq{0}} \\log{p(w_t | w_{t+q})} =\n",
    "\\nabla \\log p(w_t | w_{t+q})\n",
    "$$"
   ]
  },
  {
   "cell_type": "markdown",
   "metadata": {},
   "source": [
    "When update $ v'_{n(w_t, j)}$ for each $j \\in [1, L(w_t)-1]$, we got gradient is:\n",
    "\n",
    "$$\n",
    "\\nabla \\log p(w_t | w_{t+q}) = [ 1 - \\sigma (hs_j) ]\n",
    "\\cdot\n",
    "[\\![ n(w_t, j+1) = ch(n(w_t, j)) ]\\!]\n",
    "\\cdot\n",
    "v_{w_{t+q}}\n",
    "$$\n",
    "\n",
    "$$\n",
    "\\nabla \\sum_{-c \\leq{q} \\leq{c},q\\neq{0}} \\log{p(w_t | w_{t+q})} = \\sum_{-c \\leq{q} \\leq{c},q\\neq{0}}\n",
    "[ 1 - \\sigma (hs_j) ]\n",
    "\\cdot\n",
    "[\\![ n(w_t, j+1) = ch(n(w_t, j)) ]\\!]\n",
    "\\cdot\n",
    "v_{w_{t+q}}\n",
    "$$"
   ]
  },
  {
   "cell_type": "markdown",
   "metadata": {},
   "source": [
    "```c\n",
    "        if (hs) for (d = 0; d < vocab[word].codelen; d++) {\n",
    "          f = 0;\n",
    "          l2 = vocab[word].point[d] * layer1_size;\n",
    "          // l2 is index j in equation\n",
    "\n",
    "          // Propagate hidden -> output\n",
    "          for (c = 0; c < layer1_size; c++) f += neu1[c] * syn1[c + l2];\n",
    "          // f is +- hs_j\n",
    "          if (f <= -MAX_EXP) continue;\n",
    "          else if (f >= MAX_EXP) continue;\n",
    "          // approximation\n",
    "          // may be round is better\n",
    "          else f = expTable[(int)((f + MAX_EXP) * (EXP_TABLE_SIZE / MAX_EXP / 2))];\n",
    "          // 'g' is the gradient multiplied by the learning rate\n",
    "          // why sub code[d]?\n",
    "          // another sigmoid property\n",
    "          // \\sigma(x) = 1 - \\sigma(-x)\n",
    "          // code[d] is 0 or 1\n",
    "          g = (1 - vocab[word].code[d] - f) * alpha;\n",
    "          // Propagate errors output -> hidden\n",
    "          for (c = 0; c < layer1_size; c++) neu1e[c] += g * syn1[c + l2];\n",
    "          // Learn weights hidden -> output\n",
    "          for (c = 0; c < layer1_size; c++) syn1[c + l2] += g * neu1[c];\n",
    "        }\n",
    "```"
   ]
  },
  {
   "cell_type": "markdown",
   "metadata": {},
   "source": [
    "From the code We can see that, she or he uses $v_{mcw}$ in place of $v_{w_{t+q}}$\n",
    "\n",
    "$$\n",
    "hs_j = [\\![ n(w_t, j+1) = ch(n(w_t, j)) ]\\!] \\cdot {v'_{n(w_t, j)}}^T v_{mcw}\n",
    "$$"
   ]
  },
  {
   "cell_type": "markdown",
   "metadata": {},
   "source": [
    "`\"syn1[l2]\"` is $v'_{n(w_t, j)}$, then `\"f\"` in the above code before `\"expTable\"`\n",
    "is $\\pm hs_j$.\n",
    "\n",
    "And $[ 1 - \\sigma (hs_j) ] \\cdot\n",
    "[\\![ n(w_t, j+1) = ch(n(w_t, j)) ]\\!]$ is `\"1 - vocab[word].code[d] - f\"` after `\"expTable\"`, because of the equation:\n",
    "\n",
    "$$\n",
    "\\sigma(x) = 1 - \\sigma(-x)\n",
    "$$\n",
    "\n",
    "So `\"vocab[word].code[d] == 0\"` for $[\\![ n(w_t, j+1) = ch(n(w_t, j)) ]\\!] = +1$,\n",
    "\n",
    "and `\"vocab[word].code[d] == 1\"` for $[\\![ n(w_t, j+1) = ch(n(w_t, j)) ]\\!] = -1$,"
   ]
  },
  {
   "cell_type": "markdown",
   "metadata": {},
   "source": [
    "```python\n",
    "for (c = 0; c < layer1_size; c++) neu1e[c] += g * syn1[c + l2];\n",
    "```\n",
    "caculates the gradient of $ v_{w_{t+q}} $ for each $q \\in [-c, c], q\\neq{0}$\n",
    "\n",
    "After `for loop \"neu1e\"` is the added weight vector for each $v_{w_{t+q}}$."
   ]
  },
  {
   "cell_type": "markdown",
   "metadata": {},
   "source": [
    "And the gradient of $ v'_{n(w_t, j)}$ for each $j \\in [1, L(w_t)-1]$ is caculated as:\n",
    "\n",
    "$$\n",
    "\\nabla \\sum_{-c \\leq{q} \\leq{c},q\\neq{0}} \\log{p(w_t | w_{t+q})} = cw \\cdot\n",
    "[ 1 - \\sigma (hs_j) ]\n",
    "\\cdot\n",
    "[\\![ n(w_t, j+1) = ch(n(w_t, j)) ]\\!]\n",
    "\\cdot\n",
    "v_{mcw}\n",
    "$$\n"
   ]
  },
  {
   "cell_type": "markdown",
   "metadata": {},
   "source": [
    "The code doesn't multiply cw.\n",
    "```python\n",
    "for (c = 0; c < layer1_size; c++) syn1[c + l2] += g * neu1[c];\n",
    "```\n",
    "update the $v'_{n(w_t, j)}$ weight vector."
   ]
  },
  {
   "cell_type": "markdown",
   "metadata": {},
   "source": [
    "#### when using negative sampling"
   ]
  },
  {
   "cell_type": "markdown",
   "metadata": {},
   "source": [
    "$w_t is\\, w_O$, $w_{t+q} is\\, w_I$ in equation(2)"
   ]
  },
  {
   "cell_type": "markdown",
   "metadata": {},
   "source": [
    "And\n",
    "\n",
    "$$\n",
    "ns_{x(t+q)} = {v'_{w_x}}^T \\cdot v_{w_{t+q}}\n",
    "$$\n",
    "\n",
    "$w_x \\in \\{ w_t, w_i \\sim P_n(w) \\}$, $q \\in [-c, c], q\\neq{0}$"
   ]
  },
  {
   "cell_type": "markdown",
   "metadata": {},
   "source": [
    "Then\n",
    "\n",
    "When update $ v'_{w_t} $, we got gradient is:\n",
    "\n",
    "$$\n",
    "\\nabla \\log p(w_t | w_{t+q}) = [ 1 - \\sigma(ns_{t(t+q)}) ] \\cdot v_{w_{t+q}}\n",
    "$$\n",
    "\n",
    "$$\n",
    "\\nabla \\sum_{-c \\leq{q} \\leq{c},q\\neq{0}} \\log{p(w_t | w_{t+q})} = \\sum_{-c \\leq{q} \\leq{c},q\\neq{0}}\n",
    "[ 1 - \\sigma(ns_{t(t+q)}) ] \\cdot v_{w_{t+q}}\n",
    "$$"
   ]
  },
  {
   "cell_type": "markdown",
   "metadata": {},
   "source": [
    "When update $ v'_{w_i}, w_i \\sim P_n{w} $, we got gradient is:\n",
    "\n",
    "$$\n",
    "\\nabla \\log p(w_t | w_{t+q}) = [ 1 - \\sigma(-ns_{i(t+q)}) ] \\cdot -v_{w_{t+q}}\n",
    "$$\n",
    "\n",
    "$$\n",
    "\\nabla \\sum_{-c \\leq{q} \\leq{c},q\\neq{0}} \\log{p(w_t | w_{t+q})} = \\sum_{-c \\leq{q} \\leq{c},q\\neq{0}}\n",
    "[ 1 - \\sigma(-ns_{i(t+q)}) ] \\cdot -v_{w_{t+q}}\n",
    "$$"
   ]
  },
  {
   "cell_type": "markdown",
   "metadata": {},
   "source": [
    "When update $ v_{w_{t+q}} $, we got gradient is:\n",
    "\n",
    "$$\n",
    "\\nabla \\log p(w_t | w_{t+q}) = [ 1 - \\sigma(ns_{t(t+q)}) ] \\cdot v'_{w_t}\n",
    "+\n",
    "\\sum_{i}^{k} E_{w_i \\sim P_n(w)}\n",
    "\\left[\n",
    "[ 1 - \\sigma(-ns_{i(t+q)}) ] \\cdot\n",
    "-v'_{w_i}\n",
    "\\right]\n",
    "$$\n",
    "\n",
    "$$\n",
    "\\nabla \\sum_{-c \\leq{q} \\leq{c},q\\neq{0}} \\log{p(w_t | w_{t+q})} =\n",
    "\\nabla \\log p(w_t | w_{t+q})\n",
    "$$"
   ]
  },
  {
   "cell_type": "markdown",
   "metadata": {},
   "source": [
    "```c\n",
    "        if (negative > 0) for (d = 0; d < negative + 1; d++) {\n",
    "          // target is w_O, w_i\n",
    "          if (d == 0) {\n",
    "            target = word;\n",
    "            label = 1;\n",
    "          } else { // random sample negative weight vector\n",
    "            next_random = next_random * (unsigned long long)25214903917 + 11;\n",
    "            target = table[(next_random >> 16) % table_size];\n",
    "            if (target == 0) target = next_random % (vocab_size - 1) + 1;\n",
    "            if (target == word) continue;\n",
    "            label = 0;\n",
    "          }\n",
    "          l2 = target * layer1_size;\n",
    "          f = 0;\n",
    "          // caculate ns\n",
    "          // syn1neg[l2] is v', neu1 is v_mcw\n",
    "          for (c = 0; c < layer1_size; c++) f += neu1[c] * syn1neg[c + l2];\n",
    "          // caculate gradient\n",
    "          if (f > MAX_EXP) g = (label - 1) * alpha;\n",
    "          else if (f < -MAX_EXP) g = (label - 0) * alpha;\n",
    "          // \\sigma(x) = 1 - \\sigma(-x), and 0 label for -ns\n",
    "          else g = (label - expTable[(int)((f + MAX_EXP) * (EXP_TABLE_SIZE / MAX_EXP / 2))]) * alpha;\n",
    "          // neu1e is added weight vector for each w_{t+q}\n",
    "          for (c = 0; c < layer1_size; c++) neu1e[c] += g * syn1neg[c + l2];\n",
    "          // update v'\n",
    "          for (c = 0; c < layer1_size; c++) syn1neg[c + l2] += g * neu1[c];\n",
    "        }\n",
    "```"
   ]
  },
  {
   "cell_type": "markdown",
   "metadata": {},
   "source": [
    "The code uses $v_{mcw}$ in place of $v_{w_{t+q}}$\n",
    "\n",
    "$$\n",
    "ns_{x(t+q)} = {v'_{w_x}}^T \\cdot v_{mcw}\n",
    "$$\n",
    "\n",
    "$w_x \\in \\{ w_t, w_i \\sim P_n(w) \\}$, $q \\in [-c, c], q\\neq{0}$"
   ]
  },
  {
   "cell_type": "markdown",
   "metadata": {},
   "source": [
    "the gradient of ${v'_{w_x}},\\, w_x \\in \\{ w_t, w_i \\sim P_n(w) \\}$ is caculated as:\n",
    "\n",
    "$$\n",
    "\\nabla \\sum_{-c \\leq{q} \\leq{c},q\\neq{0}} \\log{p(w_t | w_{t+q})} = cw \\cdot\n",
    "[ 1 - \\sigma(\\pm ns_{x(mcw)} ) ]\n",
    "\\cdot\n",
    "\\pm v_{w_{mcw}}\n",
    "$$\n",
    "\n",
    "The code doesn't multiply `\"cw\"`"
   ]
  },
  {
   "cell_type": "markdown",
   "metadata": {},
   "source": [
    "Because the equation $ \\sigma(x) = 1 - \\sigma(-x)$, \n",
    "\n",
    "the gradient of ${v'_{w_x}},\\, w_x \\in \\{ w_t, w_i \\sim P_n(w) \\}$ is caculated as:\n",
    "\n",
    "$$\n",
    "\\nabla \\sum_{-c \\leq{q} \\leq{c},q\\neq{0}} \\log{p(w_t | w_{t+q})} =\n",
    "  \\begin{cases}\n",
    "    - \\sigma( ns_{x(mcw)} ) \\cdot v_{w_{mcw}}       & \\quad \\text{if } -ns_{x(mcw)} \\\\\n",
    "    [ 1 - \\sigma(ns_{x(mcw)} ) ] \\cdot v_{w_{mcw}}  & \\quad \\text{if } ns_{x(mcw)} \\\\\n",
    "  \\end{cases}\n",
    "$$\n",
    "\n",
    "The code above uses `\"label = 0\"` to caculate the gradient of $v'_{w_t}$,\n",
    "`\"label = 1\"` to caculate the gradient of $v'_{w_i}$,\n"
   ]
  },
  {
   "cell_type": "markdown",
   "metadata": {},
   "source": [
    "The gradient of $ v_{w_{t+q}} $ is caculated as:\n",
    "\n",
    "$$\n",
    "\\nabla \\sum_{-c \\leq{q} \\leq{c},q\\neq{0}} \\log p(w_t | w_{t+q}) =\n",
    "[ 1 - \\sigma(ns_{x(mcw)} ) ] \\cdot v_{w_{mcw}}\n",
    "+\n",
    "\\sum_{i}^{k} E_{w_i \\sim P_n(w)}\n",
    "\\left[\n",
    "- \\sigma( ns_{x(mcw)} ) \\cdot v_{w_{mcw}}\n",
    "\\right]\n",
    "$$\n"
   ]
  },
  {
   "cell_type": "markdown",
   "metadata": {},
   "source": [
    "```python\n",
    "for (c = 0; c < layer1_size; c++) neu1e[c] += g * syn1[c + l2];\n",
    "```\n",
    "caculates the gradient of $ v_{w_{t+q}} $ for each $q \\in [-c, c], q\\neq{0}$\n",
    "\n",
    "After `for loop \"neu1e\"` is the added weight vector for each $v_{w_{t+q}}$."
   ]
  },
  {
   "cell_type": "markdown",
   "metadata": {},
   "source": [
    "### skip-gram"
   ]
  },
  {
   "cell_type": "markdown",
   "metadata": {},
   "source": [
    "#### maximize the following average log probability:"
   ]
  },
  {
   "cell_type": "markdown",
   "metadata": {},
   "source": [
    "(4)\n",
    "$$ \\frac{1}{T} \\sum_{t=1}^{T} \\sum_{-c \\leq{j} \\leq{c},j\\neq{0}} \\log{p(w_{t+j} | w_t)} $$"
   ]
  },
  {
   "cell_type": "markdown",
   "metadata": {},
   "source": [
    "Same reason, I change the index $j$ to index $q$ due to conflict with index $j$ in hierarchical softmax.\n",
    "\n",
    "(4)\n",
    "$$ \\frac{1}{T} \\sum_{t=1}^{T} \\sum_{-c \\leq{q} \\leq{c}, q\\neq{0}} \\log{p(w_{t+q} | w_t)} $$"
   ]
  },
  {
   "cell_type": "markdown",
   "metadata": {},
   "source": [
    "#### when using hierarchical softmax"
   ]
  },
  {
   "cell_type": "markdown",
   "metadata": {
    "collapsed": true
   },
   "source": [
    "*TODO*"
   ]
  },
  {
   "cell_type": "markdown",
   "metadata": {},
   "source": [
    "#### when using negative sampling"
   ]
  },
  {
   "cell_type": "markdown",
   "metadata": {},
   "source": [
    "*TODO*"
   ]
  },
  {
   "cell_type": "code",
   "execution_count": null,
   "metadata": {
    "collapsed": true
   },
   "outputs": [],
   "source": []
  }
 ],
 "metadata": {
  "kernelspec": {
   "display_name": "Python 3",
   "language": "python",
   "name": "python3"
  },
  "language_info": {
   "codemirror_mode": {
    "name": "ipython",
    "version": 3
   },
   "file_extension": ".py",
   "mimetype": "text/x-python",
   "name": "python",
   "nbconvert_exporter": "python",
   "pygments_lexer": "ipython3",
   "version": "3.5.1"
  }
 },
 "nbformat": 4,
 "nbformat_minor": 0
}
